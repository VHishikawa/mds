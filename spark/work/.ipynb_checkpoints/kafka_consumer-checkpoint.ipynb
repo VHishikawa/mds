{
 "cells": [
  {
   "cell_type": "code",
   "execution_count": null,
   "id": "e36f677f-1d33-42c2-adae-6804b519f8da",
   "metadata": {},
   "outputs": [],
   "source": [
    "try:\n",
    "    while True:\n",
    "        print(\"Listening\")\n",
    "        # read single message at a time\n",
    "        msg = consumer.poll(0)\n",
    "        \n",
    "        if msg is None:\n",
    "            sleep(5)\n",
    "            continue\n",
    "        if msg.error():\n",
    "            print(\"Error reading message : {}\".format(msg.error()))\n",
    "            continue\n",
    "        # You can parse message and save to data base here\n",
    "        print(msg.offset())\n",
    "        print(msg.topic())\n",
    "        print(msg.value())\n",
    "        \n",
    "        consumer.commit()\n",
    "\n",
    "except Exception as ex:\n",
    "    print(\"Kafka Exception : {}\", ex)\n",
    "\n",
    "finally:\n",
    "    print(\"closing consumer\")\n",
    "    consumer.close()\n",
    "\n",
    "#RUNNING CONSUMER FOR READING MESSAGE FROM THE KAFKA TOPIC\n",
    "#my_consumer = ExampleConsumer()\n",
    "#my_consumer.start_listener()"
   ]
  }
 ],
 "metadata": {
  "kernelspec": {
   "display_name": "Python 3 (ipykernel)",
   "language": "python",
   "name": "python3"
  },
  "language_info": {
   "codemirror_mode": {
    "name": "ipython",
    "version": 3
   },
   "file_extension": ".py",
   "mimetype": "text/x-python",
   "name": "python",
   "nbconvert_exporter": "python",
   "pygments_lexer": "ipython3",
   "version": "3.10.8"
  }
 },
 "nbformat": 4,
 "nbformat_minor": 5
}
