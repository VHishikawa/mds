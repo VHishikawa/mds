{
 "cells": [
  {
   "cell_type": "code",
   "execution_count": 14,
   "id": "4c87f31f-b49f-464c-926c-fa6005f699a0",
   "metadata": {},
   "outputs": [
    {
     "data": {
      "text/plain": [
       "0"
      ]
     },
     "execution_count": 14,
     "metadata": {},
     "output_type": "execute_result"
    }
   ],
   "source": [
    "from confluent_kafka import Producer\n",
    "import json\n",
    "p=Producer({'bootstrap.servers':'kafka-broker:9092'})\n",
    "m=json.dumps('eee')\n",
    "p.poll(1)\n",
    "        \n",
    "p.produce('teste1', m.encode('utf-8'))\n",
    "p.flush()"
   ]
  },
  {
   "cell_type": "code",
   "execution_count": null,
   "id": "c4e779d4-ff47-485e-b59d-ed7b5364870e",
   "metadata": {},
   "outputs": [],
   "source": []
  }
 ],
 "metadata": {
  "kernelspec": {
   "display_name": "Python 3 (ipykernel)",
   "language": "python",
   "name": "python3"
  },
  "language_info": {
   "codemirror_mode": {
    "name": "ipython",
    "version": 3
   },
   "file_extension": ".py",
   "mimetype": "text/x-python",
   "name": "python",
   "nbconvert_exporter": "python",
   "pygments_lexer": "ipython3",
   "version": "3.10.8"
  }
 },
 "nbformat": 4,
 "nbformat_minor": 5
}
